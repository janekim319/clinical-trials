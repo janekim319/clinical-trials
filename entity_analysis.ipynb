{
  "nbformat": 4,
  "nbformat_minor": 0,
  "metadata": {
    "colab": {
      "name": "entity_analysis.ipynb",
      "provenance": []
    },
    "kernelspec": {
      "name": "python3",
      "display_name": "Python 3"
    },
    "language_info": {
      "name": "python"
    }
  },
  "cells": [
    {
      "cell_type": "code",
      "metadata": {
        "colab": {
          "base_uri": "https://localhost:8080/"
        },
        "id": "aYGxa30MFjw4",
        "outputId": "aa488a16-eec0-4f34-d480-dc53500dcd0c"
      },
      "source": [
        "from google.colab import drive\n",
        "drive.mount('/content/gdrive')"
      ],
      "execution_count": null,
      "outputs": [
        {
          "output_type": "stream",
          "name": "stdout",
          "text": [
            "Mounted at /content/gdrive\n"
          ]
        }
      ]
    },
    {
      "cell_type": "code",
      "metadata": {
        "id": "wriX-4CBHRrP"
      },
      "source": [
        "%mkdir exclusion\n",
        "%mkdir inclusion"
      ],
      "execution_count": null,
      "outputs": []
    },
    {
      "cell_type": "code",
      "metadata": {
        "colab": {
          "base_uri": "https://localhost:8080/",
          "height": 34
        },
        "id": "fRsvS81YHWq9",
        "outputId": "060c4e42-c707-44a8-9c30-0ebc4611ebce"
      },
      "source": [
        "%pwd"
      ],
      "execution_count": null,
      "outputs": [
        {
          "output_type": "execute_result",
          "data": {
            "application/vnd.google.colaboratory.intrinsic+json": {
              "type": "string"
            },
            "text/plain": [
              "'/content'"
            ]
          },
          "metadata": {},
          "execution_count": 3
        }
      ]
    },
    {
      "cell_type": "code",
      "metadata": {
        "id": "8pRdTVZVGfs7"
      },
      "source": [
        "import os\n",
        "import shutil\n",
        "\n",
        "for filename in os.listdir(\"/content/gdrive/MyDrive/Harvard/Capstone/Prostate/analysis\"):\n",
        "    if filename.endswith(\"_exclusion.json\"): \n",
        "      shutil.copyfile(\"/content/gdrive/MyDrive/Harvard/Capstone/Prostate/analysis/\" + filename, \"/content/exclusion/\" + filename)\n",
        "      \n",
        "        \n",
        "    else:\n",
        "      shutil.copyfile(\"/content/gdrive/MyDrive/Harvard/Capstone/Prostate/analysis/\" + filename, \"/content/inclusion/\" + filename)\n",
        "      "
      ],
      "execution_count": null,
      "outputs": []
    },
    {
      "cell_type": "code",
      "metadata": {
        "colab": {
          "base_uri": "https://localhost:8080/"
        },
        "id": "an46JF2YHuTh",
        "outputId": "ed82ed10-637a-478f-fd0b-3f4bdae29492"
      },
      "source": [
        "exclusion_num = len(os.listdir(\"/content/exclusion\"))\n",
        "print(\"Number of exclusion files are: \", exclusion_num)\n",
        "\n",
        "inclusion_num = len(os.listdir(\"/content/inclusion\"))\n",
        "print(\"Number of inclusion files are: \", inclusion_num)\n"
      ],
      "execution_count": null,
      "outputs": [
        {
          "output_type": "stream",
          "name": "stdout",
          "text": [
            "Number of exclusion files are:  483\n",
            "Number of inclusion files are:  483\n"
          ]
        }
      ]
    },
    {
      "cell_type": "code",
      "metadata": {
        "id": "GPTnOTOW6Ng2"
      },
      "source": [
        "exclusion_trials = []\n",
        "for filename in os.listdir(\"/content/gdrive/MyDrive/Harvard/Capstone/Prostate/analysis\"):\n",
        "  exclusion_trials.append(filename[0:11])\n",
        "trials = set(exclusion_trials)"
      ],
      "execution_count": null,
      "outputs": []
    },
    {
      "cell_type": "markdown",
      "metadata": {
        "id": "R-pYTfjrJKZ2"
      },
      "source": [
        "## Reading in the JSON files"
      ]
    },
    {
      "cell_type": "code",
      "metadata": {
        "id": "Joi3XX99JNCI"
      },
      "source": [
        "import json"
      ],
      "execution_count": null,
      "outputs": []
    },
    {
      "cell_type": "markdown",
      "metadata": {
        "id": "654bVvxIQEOg"
      },
      "source": [
        "## Finding the files with errors "
      ]
    },
    {
      "cell_type": "code",
      "metadata": {
        "id": "wRstR8IEQDuP"
      },
      "source": [
        "# inclusion\n",
        "error_files_inclusion = []\n",
        "for filename in os.listdir(\"/content/inclusion\"):\n",
        "  f = open(\"/content/inclusion/\"+filename,)\n",
        "  data = json.load(f)\n",
        "  if 'error' in data:\n",
        "    #print(print(filename), data)\n",
        "    error_files_inclusion.append(filename)\n",
        "    f.close()\n",
        "  else:\n",
        "    f.close()\n",
        "    continue"
      ],
      "execution_count": null,
      "outputs": []
    },
    {
      "cell_type": "code",
      "metadata": {
        "colab": {
          "base_uri": "https://localhost:8080/"
        },
        "id": "tqNnlxG8Q4jM",
        "outputId": "f8ff9ed1-17ca-4882-de86-946d60371c02"
      },
      "source": [
        "len(error_files_inclusion)"
      ],
      "execution_count": null,
      "outputs": [
        {
          "output_type": "execute_result",
          "data": {
            "text/plain": [
              "152"
            ]
          },
          "metadata": {},
          "execution_count": 9
        }
      ]
    },
    {
      "cell_type": "code",
      "metadata": {
        "id": "KT0T-dEtRQjE"
      },
      "source": [
        "# exclusion criteria\n",
        "error_files_exclusion = []\n",
        "for filename in os.listdir(\"/content/exclusion\"):\n",
        "  f = open(\"/content/exclusion/\"+filename,)\n",
        "  data = json.load(f)\n",
        "  if 'error' in data:\n",
        "    #print(print(filename), data)\n",
        "    error_files_exclusion.append(filename)\n",
        "    f.close()\n",
        "  else:\n",
        "    f.close()\n",
        "    continue"
      ],
      "execution_count": null,
      "outputs": []
    },
    {
      "cell_type": "code",
      "metadata": {
        "colab": {
          "base_uri": "https://localhost:8080/"
        },
        "id": "mj-KhA4SRwrc",
        "outputId": "1ce4ec74-8ae5-4b35-e41f-b80f9271696f"
      },
      "source": [
        "len(error_files_exclusion)"
      ],
      "execution_count": null,
      "outputs": [
        {
          "output_type": "execute_result",
          "data": {
            "text/plain": [
              "128"
            ]
          },
          "metadata": {},
          "execution_count": 11
        }
      ]
    },
    {
      "cell_type": "code",
      "metadata": {
        "id": "Vq4XmT8SSKwl"
      },
      "source": [
        "for i in range(0, len(error_files_exclusion)):\n",
        "  error_files_exclusion[i] = error_files_exclusion[i][0:11]\n",
        "\n",
        "for i in range(0, len(error_files_inclusion)):\n",
        "  error_files_inclusion[i] = error_files_inclusion[i][0:11]"
      ],
      "execution_count": null,
      "outputs": []
    },
    {
      "cell_type": "code",
      "metadata": {
        "id": "tAb906CD7WhV"
      },
      "source": [
        "# finding the error files from exclusion criteria and inclusion criteria\n",
        "error_files = set(error_files_exclusion + error_files_inclusion)"
      ],
      "execution_count": null,
      "outputs": []
    },
    {
      "cell_type": "code",
      "metadata": {
        "colab": {
          "base_uri": "https://localhost:8080/"
        },
        "id": "rmulmZWZ7cP_",
        "outputId": "bacdc53b-8572-417d-ea58-8ebb732acfab"
      },
      "source": [
        "len(error_files) # there are 246 trials that came back with an error"
      ],
      "execution_count": null,
      "outputs": [
        {
          "output_type": "execute_result",
          "data": {
            "text/plain": [
              "246"
            ]
          },
          "metadata": {},
          "execution_count": 14
        }
      ]
    },
    {
      "cell_type": "code",
      "metadata": {
        "id": "vBpXk5_E7lxV"
      },
      "source": [
        "correct_trials = set(trials) - error_files"
      ],
      "execution_count": null,
      "outputs": []
    },
    {
      "cell_type": "code",
      "metadata": {
        "colab": {
          "base_uri": "https://localhost:8080/"
        },
        "id": "2OWi4OnX8LSz",
        "outputId": "19b50322-c8ba-4312-9b07-2630ccc61136"
      },
      "source": [
        "correct_trials = list(correct_trials)\n",
        "correct_trials"
      ],
      "execution_count": null,
      "outputs": [
        {
          "output_type": "execute_result",
          "data": {
            "text/plain": [
              "['NCT00043212',\n",
              " 'NCT01287845',\n",
              " 'NCT03630666',\n",
              " 'NCT03428087',\n",
              " 'NCT00632905',\n",
              " 'NCT01078545',\n",
              " 'NCT00695773',\n",
              " 'NCT00949338',\n",
              " 'NCT03431753',\n",
              " 'NCT02036060',\n",
              " 'NCT00003084',\n",
              " 'NCT04654715',\n",
              " 'NCT03549000',\n",
              " 'NCT03302169',\n",
              " 'NCT00796458',\n",
              " 'NCT04493853',\n",
              " 'NCT00945477',\n",
              " 'NCT02260349',\n",
              " 'NCT03141671',\n",
              " 'NCT02025010',\n",
              " 'NCT03851640',\n",
              " 'NCT03730324',\n",
              " 'NCT04962919',\n",
              " 'NCT00579423',\n",
              " 'NCT02668718',\n",
              " 'NCT01162395',\n",
              " 'NCT01972217',\n",
              " 'NCT01353625',\n",
              " 'NCT02138721',\n",
              " 'NCT02235142',\n",
              " 'NCT03896984',\n",
              " 'NCT03159585',\n",
              " 'NCT03365297',\n",
              " 'NCT01529086',\n",
              " 'NCT04443062',\n",
              " 'NCT00706498',\n",
              " 'NCT01883128',\n",
              " 'NCT03222466',\n",
              " 'NCT00003682',\n",
              " 'NCT03386812',\n",
              " 'NCT04268628',\n",
              " 'NCT03827616',\n",
              " 'NCT01753297',\n",
              " 'NCT04595019',\n",
              " 'NCT02086266',\n",
              " 'NCT04052048',\n",
              " 'NCT04066335',\n",
              " 'NCT03383016',\n",
              " 'NCT03368989',\n",
              " 'NCT02972060',\n",
              " 'NCT03480074',\n",
              " 'NCT00584532',\n",
              " 'NCT00482274',\n",
              " 'NCT03317990',\n",
              " 'NCT02470910',\n",
              " 'NCT03434535',\n",
              " 'NCT01839994',\n",
              " 'NCT01707966',\n",
              " 'NCT03426748',\n",
              " 'NCT02969564',\n",
              " 'NCT01198457',\n",
              " 'NCT00428220',\n",
              " 'NCT02185170',\n",
              " 'NCT02615223',\n",
              " 'NCT02364531',\n",
              " 'NCT02630641',\n",
              " 'NCT01634061',\n",
              " 'NCT00228124',\n",
              " 'NCT00258401',\n",
              " 'NCT02194842',\n",
              " 'NCT00089362',\n",
              " 'NCT02003417',\n",
              " 'NCT04882618',\n",
              " 'NCT02424448',\n",
              " 'NCT02220829',\n",
              " 'NCT00264017',\n",
              " 'NCT02213107',\n",
              " 'NCT00327288',\n",
              " 'NCT00041171',\n",
              " 'NCT02730975',\n",
              " 'NCT02957981',\n",
              " 'NCT02248350',\n",
              " 'NCT01576029',\n",
              " 'NCT00664456',\n",
              " 'NCT00086762',\n",
              " 'NCT00193856',\n",
              " 'NCT00623831',\n",
              " 'NCT04833517',\n",
              " 'NCT04235556',\n",
              " 'NCT03228108',\n",
              " 'NCT01630967',\n",
              " 'NCT04832113',\n",
              " 'NCT02050542',\n",
              " 'NCT04775602',\n",
              " 'NCT04113811',\n",
              " 'NCT00852007',\n",
              " 'NCT02672657',\n",
              " 'NCT00873665',\n",
              " 'NCT03840200',\n",
              " 'NCT01226004',\n",
              " 'NCT00376298',\n",
              " 'NCT02477137',\n",
              " 'NCT00657904',\n",
              " 'NCT00672282',\n",
              " 'NCT02922218',\n",
              " 'NCT00565227',\n",
              " 'NCT03987386',\n",
              " 'NCT04140526',\n",
              " 'NCT00217516',\n",
              " 'NCT02346578',\n",
              " 'NCT04628806',\n",
              " 'NCT01155258',\n",
              " 'NCT00441532',\n",
              " 'NCT00859768',\n",
              " 'NCT04320147',\n",
              " 'NCT01643954',\n",
              " 'NCT00554229',\n",
              " 'NCT00973882',\n",
              " 'NCT00201630',\n",
              " 'NCT02176902',\n",
              " 'NCT02258087',\n",
              " 'NCT02033343',\n",
              " 'NCT02628041',\n",
              " 'NCT03600129',\n",
              " 'NCT00663832',\n",
              " 'NCT00859729',\n",
              " 'NCT01300104',\n",
              " 'NCT00002855',\n",
              " 'NCT03475433',\n",
              " 'NCT04745871',\n",
              " 'NCT03365518',\n",
              " 'NCT01492270',\n",
              " 'NCT00294749',\n",
              " 'NCT03964337',\n",
              " 'NCT03574571',\n",
              " 'NCT03832803',\n",
              " 'NCT00764166',\n",
              " 'NCT03650153',\n",
              " 'NCT00294151',\n",
              " 'NCT02207504',\n",
              " 'NCT03361969',\n",
              " 'NCT01303692',\n",
              " 'NCT00751205',\n",
              " 'NCT03154190',\n",
              " 'NCT02450812',\n",
              " 'NCT00269555',\n",
              " 'NCT03497377',\n",
              " 'NCT01796028',\n",
              " 'NCT02092948',\n",
              " 'NCT01132404',\n",
              " 'NCT01566045',\n",
              " 'NCT00728533',\n",
              " 'NCT00236002',\n",
              " 'NCT01691976',\n",
              " 'NCT03255135',\n",
              " 'NCT01815515',\n",
              " 'NCT02864784',\n",
              " 'NCT00815672',\n",
              " 'NCT04062162',\n",
              " 'NCT00844792',\n",
              " 'NCT00585637',\n",
              " 'NCT01243385',\n",
              " 'NCT01422850',\n",
              " 'NCT02729103',\n",
              " 'NCT02344667',\n",
              " 'NCT04797078',\n",
              " 'NCT03857477',\n",
              " 'NCT04182594',\n",
              " 'NCT01098331',\n",
              " 'NCT01674270',\n",
              " 'NCT04180592',\n",
              " 'NCT02315989',\n",
              " 'NCT04261777',\n",
              " 'NCT00951535',\n",
              " 'NCT03294889',\n",
              " 'NCT00055471',\n",
              " 'NCT02626377',\n",
              " 'NCT01220973',\n",
              " 'NCT04091230',\n",
              " 'NCT00321620',\n",
              " 'NCT04839055',\n",
              " 'NCT00503984',\n",
              " 'NCT04086290',\n",
              " 'NCT00898326',\n",
              " 'NCT00378482',\n",
              " 'NCT00450463',\n",
              " 'NCT04081636',\n",
              " 'NCT03869762',\n",
              " 'NCT00925418',\n",
              " 'NCT01383863',\n",
              " 'NCT04863352',\n",
              " 'NCT03017313',\n",
              " 'NCT00949962',\n",
              " 'NCT04484246',\n",
              " 'NCT02435472',\n",
              " 'NCT03159676',\n",
              " 'NCT03452436',\n",
              " 'NCT04283032',\n",
              " 'NCT02692105',\n",
              " 'NCT04774133',\n",
              " 'NCT00667862',\n",
              " 'NCT01733836',\n",
              " 'NCT03630926',\n",
              " 'NCT01907009',\n",
              " 'NCT02640534',\n",
              " 'NCT00525408',\n",
              " 'NCT00242567',\n",
              " 'NCT02102646',\n",
              " 'NCT00992251',\n",
              " 'NCT03910660',\n",
              " 'NCT04116164',\n",
              " 'NCT02479945',\n",
              " 'NCT01649635',\n",
              " 'NCT00860652',\n",
              " 'NCT02286921',\n",
              " 'NCT00364455',\n",
              " 'NCT04985110',\n",
              " 'NCT04792138',\n",
              " 'NCT00667069',\n",
              " 'NCT03465579',\n",
              " 'NCT00152789',\n",
              " 'NCT00502164',\n",
              " 'NCT02159950',\n",
              " 'NCT03695835',\n",
              " 'NCT00630799',\n",
              " 'NCT04655365',\n",
              " 'NCT03285048',\n",
              " 'NCT00943956',\n",
              " 'NCT03245736',\n",
              " 'NCT00215683',\n",
              " 'NCT00661492',\n",
              " 'NCT04509557',\n",
              " 'NCT00027794',\n",
              " 'NCT04186585',\n",
              " 'NCT01173952',\n",
              " 'NCT02232672',\n",
              " 'NCT01786265']"
            ]
          },
          "metadata": {},
          "execution_count": 16
        }
      ]
    },
    {
      "cell_type": "code",
      "metadata": {
        "id": "-KSzPWoDVM-C",
        "colab": {
          "base_uri": "https://localhost:8080/"
        },
        "outputId": "4f75eff8-b185-404c-f246-677b41d54316"
      },
      "source": [
        "len(correct_trials) # there are 237 trials that came back with a successful result"
      ],
      "execution_count": null,
      "outputs": [
        {
          "output_type": "execute_result",
          "data": {
            "text/plain": [
              "237"
            ]
          },
          "metadata": {},
          "execution_count": 17
        }
      ]
    },
    {
      "cell_type": "markdown",
      "metadata": {
        "id": "A3Z1eiLR9YIh"
      },
      "source": [
        "## Removing the json files that contain errors from the /content/exclusion folder and the /content/inclusion folder"
      ]
    },
    {
      "cell_type": "code",
      "metadata": {
        "id": "QI6plP1r9ios"
      },
      "source": [
        "for filename in os.listdir(\"/content/exclusion\"):\n",
        "    if filename[0:11] not in correct_trials: \n",
        "      os.remove(\"/content/exclusion/\" + filename)"
      ],
      "execution_count": null,
      "outputs": []
    },
    {
      "cell_type": "code",
      "metadata": {
        "colab": {
          "base_uri": "https://localhost:8080/"
        },
        "id": "DB5sDBEe-3NL",
        "outputId": "eacb58b9-2535-4f3e-cc18-f5395630209d"
      },
      "source": [
        "count = 0\n",
        "for filename in os.listdir(\"/content/exclusion\"):\n",
        "  count = count + 1\n",
        "count"
      ],
      "execution_count": null,
      "outputs": [
        {
          "output_type": "execute_result",
          "data": {
            "text/plain": [
              "237"
            ]
          },
          "metadata": {},
          "execution_count": 19
        }
      ]
    },
    {
      "cell_type": "code",
      "metadata": {
        "id": "ftla5OAd_AvA"
      },
      "source": [
        "for filename in os.listdir(\"/content/inclusion\"):\n",
        "    if filename[0:11] not in correct_trials: \n",
        "      os.remove(\"/content/inclusion/\" + filename)"
      ],
      "execution_count": null,
      "outputs": []
    },
    {
      "cell_type": "code",
      "metadata": {
        "colab": {
          "base_uri": "https://localhost:8080/"
        },
        "id": "LZ6casra_Fd_",
        "outputId": "8cf01888-03d5-40e4-cd0e-bedb4df43706"
      },
      "source": [
        "count = 0\n",
        "for filename in os.listdir(\"/content/inclusion\"):\n",
        "  count = count + 1\n",
        "count"
      ],
      "execution_count": null,
      "outputs": [
        {
          "output_type": "execute_result",
          "data": {
            "text/plain": [
              "237"
            ]
          },
          "metadata": {},
          "execution_count": 21
        }
      ]
    },
    {
      "cell_type": "markdown",
      "metadata": {
        "id": "St8YcvYBQ1Cj"
      },
      "source": [
        "# Creating two spreadsheet (one inclusion criteria and one exclusion criteria)"
      ]
    },
    {
      "cell_type": "code",
      "metadata": {
        "id": "B4IWqqQmR5ze"
      },
      "source": [
        "%mkdir prostate"
      ],
      "execution_count": null,
      "outputs": []
    },
    {
      "cell_type": "code",
      "metadata": {
        "id": "fwXUVLvMR-ai"
      },
      "source": [
        "import zipfile\n",
        "with zipfile.ZipFile(\"/content/gdrive/MyDrive/Harvard/Capstone/TreeBuilding/data/neoplasm/Prostatic Neoplasms.zip\", 'r') as zip_ref:\n",
        "    zip_ref.extractall(\"/content/prostate\")"
      ],
      "execution_count": null,
      "outputs": []
    },
    {
      "cell_type": "code",
      "metadata": {
        "id": "lqDT1aBVSkmZ"
      },
      "source": [
        "for filename in os.listdir(\"/content/prostate\"):\n",
        "    if filename[0:11] not in correct_trials: \n",
        "      os.remove(\"/content/prostate/\" + filename)"
      ],
      "execution_count": null,
      "outputs": []
    },
    {
      "cell_type": "code",
      "metadata": {
        "id": "-3zWNO7VQ7Pm"
      },
      "source": [
        "inclusion = pd.DataFrame(columns=('trial', 'criteria'))\n",
        "exclusion = pd.DataFrame(columns=('trial', 'criteria'))"
      ],
      "execution_count": null,
      "outputs": []
    },
    {
      "cell_type": "code",
      "metadata": {
        "colab": {
          "base_uri": "https://localhost:8080/"
        },
        "id": "h9rHoFDLTFNq",
        "outputId": "e5716692-8f67-421c-a3b7-22b5a4cff719"
      },
      "source": [
        "import os\n",
        "import xml.etree.ElementTree as ET\n",
        "import pandas as pd\n",
        "\n",
        "add_to_inclusion = []\n",
        "add_to_exclusion = []\n",
        "add_to_description = []\n",
        "counter = 0\n",
        "for filename in os.listdir(\"/content/prostate\"):\n",
        "  print(\"Currently on: \", filename)\n",
        "  newname = filename[:-4]\n",
        "  tree = ET.parse(\"/content/prostate/\" + str(filename))\n",
        "\n",
        "  study_id = tree.find(\".//nct_id\").text # use this\n",
        "  if tree.find(\".//official_title\") == None:\n",
        "    study_title = tree.find(\".//brief_title\").text\n",
        "  else:\n",
        "    study_title = tree.find(\".//official_title\").text # use this\n",
        "  brief_summary = tree.find(\"./brief_summary/textblock\")\n",
        "  detailed_description = tree.find(\"./detailed_description/textblock\")\n",
        "\n",
        "  if detailed_description == None:\n",
        "    study_summary = brief_summary.text.replace('\\r',\"\").replace('\\n',\"\")\n",
        "  else:\n",
        "    study_summary = brief_summary.text.replace('\\r',\"\").replace('\\n',\"\") + detailed_description.text.replace('\\r',\"\").replace('\\n',\"\")\n",
        "\n",
        "  status = tree.find(\".//overall_status\").text\n",
        "\n",
        "  if tree.find(\".//start_date\") == None:\n",
        "    date = \"N/A\"\n",
        "  else:\n",
        "    date = tree.find(\".//start_date\").text\n",
        "\n",
        "\n",
        "  ### inclusion criteria\n",
        "\n",
        "  root = tree.findall(\"./eligibility\")\n",
        "\n",
        "  #string concatenate the variables: gender, minimum_age, maximum_age, healthy_volunteers\n",
        "  if root == []: # when the eligibility criteria does not exist, look for the gender, minimum age, maximum age, and healthy volunteers and put them into the inclusion criteria\n",
        "    gender = \"gender: \"\n",
        "\n",
        "    if tree.find(\".//gender\") == None:\n",
        "      gender = gender + \"N/A\"\n",
        "\n",
        "    else:\n",
        "      gender = gender + tree.find(\".//gender\").text.replace('\\r',\"\").replace('\\n',\"\")\n",
        "\n",
        "    \n",
        "    minimum_age = \"minimum age: \"\n",
        "    if tree.find(\".//minimum_age\") == None:\n",
        "      minimum_age = minimum_age + \"N/A\"\n",
        "      \n",
        "\n",
        "    else:\n",
        "      minimum_age = minimum_age + tree.find(\".//minimum_age\").text.replace('\\r',\"\").replace('\\n',\"\")\n",
        "      \n",
        "\n",
        "    \n",
        "    maximum_age = \"maximum age: \"\n",
        "\n",
        "    if tree.find(\".//maximum_age\") == None:\n",
        "      maximum_age = maximum_age + \"N/A\"\n",
        "      \n",
        "    else:\n",
        "      maximum_age = maximum_age + tree.find(\".//maximum_age\").text.replace('\\r',\"\").replace('\\n',\"\")\n",
        "    \n",
        "    \n",
        "    healthy_volunteers = \"healthy volunteers: \"\n",
        "\n",
        "    if tree.find(\".//healthy_volunteers\")== None:\n",
        "      healthy_volunteers = healthy_volunteers + \"N/A\"\n",
        "    else:\n",
        "      healthy_volunteers = healthy_volunteers + tree.find(\".//healthy_volunteers\").text.replace('\\r',\"\").replace('\\n',\"\")\n",
        "      \n",
        "    \n",
        "\n",
        "    inclusion_criteria = gender + \",\" +  minimum_age +  \",\" + maximum_age +  \",\" + healthy_volunteers\n",
        "    exclusion_criteria = \"N/A\"\n",
        "\n",
        "  \n",
        "  else:    \n",
        "    eligibility_criteria = \"\"\n",
        "    for eligibility in root:\n",
        "      for textblock in eligibility.findall('.//textblock'):\n",
        "        eligibility_criteria = eligibility_criteria + textblock.text.replace('\\r',\"\").replace('\\n',\"\")\n",
        "           \n",
        "        \n",
        "    idx = eligibility_criteria.find('Exclusion Criteria')\n",
        "\n",
        "    inclusion_criteria = eligibility_criteria[:idx]           \n",
        "    \n",
        "    gender = \"gender: \"        \n",
        "    if tree.find(\".//gender\") == None:\n",
        "      gender = gender + \"N/A\"\n",
        "\n",
        "    else:\n",
        "      gender = gender + tree.find(\".//gender\").text.replace('\\r',\"\").replace('\\n',\"\")\n",
        "\n",
        "    \n",
        "    minimum_age = \"minimum age: \"\n",
        "    if tree.find(\".//minimum_age\") == None:\n",
        "      minimum_age = minimum_age + \"N/A\"\n",
        "      \n",
        "\n",
        "    else:\n",
        "      minimum_age = minimum_age + tree.find(\".//minimum_age\").text.replace('\\r',\"\").replace('\\n',\"\")\n",
        "      \n",
        "\n",
        "    \n",
        "    maximum_age = \"maximum age: \"\n",
        "\n",
        "    if tree.find(\".//maximum_age\") == None:\n",
        "      maximum_age = maximum_age + \"N/A\"\n",
        "      \n",
        "    else:\n",
        "      maximum_age = maximum_age + tree.find(\".//maximum_age\").text.replace('\\r',\"\").replace('\\n',\"\")\n",
        "    \n",
        "    \n",
        "    healthy_volunteers = \"healthy volunteers: \"\n",
        "\n",
        "    if tree.find(\".//healthy_volunteers\")== None:\n",
        "      healthy_volunteers = healthy_volunteers + \"N/A\"\n",
        "    else:\n",
        "      healthy_volunteers = healthy_volunteers + tree.find(\".//healthy_volunteers\").text.replace('\\r',\"\").replace('\\n',\"\")\n",
        "\n",
        "    inclusion_criteria =  gender + \",\" +  minimum_age +  \",\" + maximum_age +  \",\" + healthy_volunteers + \",\" + inclusion_criteria        \n",
        "           \n",
        "    if idx == -1:\n",
        "      exclusion_criteria = \"N/A\"\n",
        "    else:\n",
        "      exclusion_criteria = eligibility_criteria[idx:].replace('\\r',\"\").replace('\\n',\"\")\n",
        "\n",
        "  add_to_inclusion.append([study_id, study_title, inclusion_criteria])\n",
        "  add_to_exclusion.append([study_id, study_title, exclusion_criteria])\n",
        "  add_to_description.append([study_id, study_title, study_summary])\n",
        "  counter = counter + 1\n",
        "\n",
        "#creating the dataframes\n",
        "inclusion_df = pd.DataFrame(add_to_inclusion, columns=['study_id', 'study_title', 'inclusion_criteria'])\n",
        "exclusion_df = pd.DataFrame(add_to_exclusion, columns=['study_id', 'study_title', 'exclusion_criteria'])\n",
        "description_df = pd.DataFrame(add_to_description, columns=['study_id', 'study_title', 'summary'])\n",
        "\n",
        "print(\"the loop ran: \", counter, \" times\")\n",
        "\n",
        "\n",
        "inclusion_df.to_csv(\"./gdrive/MyDrive/Harvard/Capstone/Prostate/spreadsheets/inclusion.csv\")\n",
        "exclusion_df.to_csv(\"./gdrive/MyDrive/Harvard/Capstone/Prostate/spreadsheets/exclusion.csv\")\n",
        "description_df.to_csv(\"./gdrive/MyDrive/Harvard/Capstone/Prostate/spreadsheets/description.csv\")\n",
        "\n"
      ],
      "execution_count": null,
      "outputs": [
        {
          "output_type": "stream",
          "name": "stdout",
          "text": [
            "Currently on:  NCT02159950.xml\n",
            "Currently on:  NCT03361969.xml\n",
            "Currently on:  NCT00525408.xml\n",
            "Currently on:  NCT04268628.xml\n",
            "Currently on:  NCT00041171.xml\n",
            "Currently on:  NCT04066335.xml\n",
            "Currently on:  NCT04882618.xml\n",
            "Currently on:  NCT00428220.xml\n",
            "Currently on:  NCT04493853.xml\n",
            "Currently on:  NCT00502164.xml\n",
            "Currently on:  NCT01733836.xml\n",
            "Currently on:  NCT02972060.xml\n",
            "Currently on:  NCT00764166.xml\n",
            "Currently on:  NCT02315989.xml\n",
            "Currently on:  NCT03827616.xml\n",
            "Currently on:  NCT03497377.xml\n",
            "Currently on:  NCT02050542.xml\n",
            "Currently on:  NCT03987386.xml\n",
            "Currently on:  NCT03730324.xml\n",
            "Currently on:  NCT04182594.xml\n",
            "Currently on:  NCT01883128.xml\n",
            "Currently on:  NCT00973882.xml\n",
            "Currently on:  NCT03154190.xml\n",
            "Currently on:  NCT03159676.xml\n",
            "Currently on:  NCT00667069.xml\n",
            "Currently on:  NCT02232672.xml\n",
            "Currently on:  NCT02207504.xml\n",
            "Currently on:  NCT03317990.xml\n",
            "Currently on:  NCT04774133.xml\n",
            "Currently on:  NCT00055471.xml\n",
            "Currently on:  NCT02102646.xml\n",
            "Currently on:  NCT03452436.xml\n",
            "Currently on:  NCT00378482.xml\n",
            "Currently on:  NCT04186585.xml\n",
            "Currently on:  NCT00667862.xml\n",
            "Currently on:  NCT02615223.xml\n",
            "Currently on:  NCT00269555.xml\n",
            "Currently on:  NCT00003084.xml\n",
            "Currently on:  NCT00002855.xml\n",
            "Currently on:  NCT00236002.xml\n",
            "Currently on:  NCT03245736.xml\n",
            "Currently on:  NCT04797078.xml\n",
            "Currently on:  NCT03365518.xml\n",
            "Currently on:  NCT03630926.xml\n",
            "Currently on:  NCT03480074.xml\n",
            "Currently on:  NCT01786265.xml\n",
            "Currently on:  NCT01383863.xml\n",
            "Currently on:  NCT01972217.xml\n",
            "Currently on:  NCT03574571.xml\n",
            "Currently on:  NCT04832113.xml\n",
            "Currently on:  NCT02450812.xml\n",
            "Currently on:  NCT04091230.xml\n",
            "Currently on:  NCT02957981.xml\n",
            "Currently on:  NCT00728533.xml\n",
            "Currently on:  NCT03141671.xml\n",
            "Currently on:  NCT01643954.xml\n",
            "Currently on:  NCT04655365.xml\n",
            "Currently on:  NCT03600129.xml\n",
            "Currently on:  NCT01630967.xml\n",
            "Currently on:  NCT00796458.xml\n",
            "Currently on:  NCT00751205.xml\n",
            "Currently on:  NCT04509557.xml\n",
            "Currently on:  NCT01576029.xml\n",
            "Currently on:  NCT03302169.xml\n",
            "Currently on:  NCT02213107.xml\n",
            "Currently on:  NCT02730975.xml\n",
            "Currently on:  NCT04833517.xml\n",
            "Currently on:  NCT00584532.xml\n",
            "Currently on:  NCT00294749.xml\n",
            "Currently on:  NCT00632905.xml\n",
            "Currently on:  NCT00706498.xml\n",
            "Currently on:  NCT01796028.xml\n",
            "Currently on:  NCT03017313.xml\n",
            "Currently on:  NCT04081636.xml\n",
            "Currently on:  NCT01707966.xml\n",
            "Currently on:  NCT03228108.xml\n",
            "Currently on:  NCT02729103.xml\n",
            "Currently on:  NCT01300104.xml\n",
            "Currently on:  NCT03695835.xml\n",
            "Currently on:  NCT03434535.xml\n",
            "Currently on:  NCT04484246.xml\n",
            "Currently on:  NCT00217516.xml\n",
            "Currently on:  NCT04086290.xml\n",
            "Currently on:  NCT00327288.xml\n",
            "Currently on:  NCT03428087.xml\n",
            "Currently on:  NCT03255135.xml\n",
            "Currently on:  NCT03851640.xml\n",
            "Currently on:  NCT00860652.xml\n",
            "Currently on:  NCT03365297.xml\n",
            "Currently on:  NCT00441532.xml\n",
            "Currently on:  NCT03426748.xml\n",
            "Currently on:  NCT01173952.xml\n",
            "Currently on:  NCT02025010.xml\n",
            "Currently on:  NCT01566045.xml\n",
            "Currently on:  NCT02033343.xml\n",
            "Currently on:  NCT03857477.xml\n",
            "Currently on:  NCT00945477.xml\n",
            "Currently on:  NCT01098331.xml\n",
            "Currently on:  NCT03896984.xml\n",
            "Currently on:  NCT04113811.xml\n",
            "Currently on:  NCT01220973.xml\n",
            "Currently on:  NCT03910660.xml\n",
            "Currently on:  NCT00859729.xml\n",
            "Currently on:  NCT01132404.xml\n",
            "Currently on:  NCT02346578.xml\n",
            "Currently on:  NCT00672282.xml\n",
            "Currently on:  NCT03159585.xml\n",
            "Currently on:  NCT00482274.xml\n",
            "Currently on:  NCT03869762.xml\n",
            "Currently on:  NCT04775602.xml\n",
            "Currently on:  NCT00364455.xml\n",
            "Currently on:  NCT02248350.xml\n",
            "Currently on:  NCT02176902.xml\n",
            "Currently on:  NCT01649635.xml\n",
            "Currently on:  NCT04745871.xml\n",
            "Currently on:  NCT02003417.xml\n",
            "Currently on:  NCT00258401.xml\n",
            "Currently on:  NCT00664456.xml\n",
            "Currently on:  NCT02194842.xml\n",
            "Currently on:  NCT00201630.xml\n",
            "Currently on:  NCT02260349.xml\n",
            "Currently on:  NCT01155258.xml\n",
            "Currently on:  NCT02626377.xml\n",
            "Currently on:  NCT04116164.xml\n",
            "Currently on:  NCT02220829.xml\n",
            "Currently on:  NCT00215683.xml\n",
            "Currently on:  NCT02864784.xml\n",
            "Currently on:  NCT00844792.xml\n",
            "Currently on:  NCT04985110.xml\n",
            "Currently on:  NCT00228124.xml\n",
            "Currently on:  NCT01492270.xml\n",
            "Currently on:  NCT01815515.xml\n",
            "Currently on:  NCT00873665.xml\n",
            "Currently on:  NCT02185170.xml\n",
            "Currently on:  NCT03465579.xml\n",
            "Currently on:  NCT01287845.xml\n",
            "Currently on:  NCT00898326.xml\n",
            "Currently on:  NCT04052048.xml\n",
            "Currently on:  NCT01078545.xml\n",
            "Currently on:  NCT00657904.xml\n",
            "Currently on:  NCT00294151.xml\n",
            "Currently on:  NCT02640534.xml\n",
            "Currently on:  NCT02235142.xml\n",
            "Currently on:  NCT03386812.xml\n",
            "Currently on:  NCT00623831.xml\n",
            "Currently on:  NCT00086762.xml\n",
            "Currently on:  NCT02922218.xml\n",
            "Currently on:  NCT02092948.xml\n",
            "Currently on:  NCT00089362.xml\n",
            "Currently on:  NCT02286921.xml\n",
            "Currently on:  NCT03368989.xml\n",
            "Currently on:  NCT00027794.xml\n",
            "Currently on:  NCT02628041.xml\n",
            "Currently on:  NCT04595019.xml\n",
            "Currently on:  NCT01226004.xml\n",
            "Currently on:  NCT00815672.xml\n",
            "Currently on:  NCT01198457.xml\n",
            "Currently on:  NCT00503984.xml\n",
            "Currently on:  NCT00852007.xml\n",
            "Currently on:  NCT00376298.xml\n",
            "Currently on:  NCT00579423.xml\n",
            "Currently on:  NCT04283032.xml\n",
            "Currently on:  NCT02138721.xml\n",
            "Currently on:  NCT02668718.xml\n",
            "Currently on:  NCT00152789.xml\n",
            "Currently on:  NCT01303692.xml\n",
            "Currently on:  NCT01422850.xml\n",
            "Currently on:  NCT04320147.xml\n",
            "Currently on:  NCT01691976.xml\n",
            "Currently on:  NCT02630641.xml\n",
            "Currently on:  NCT04863352.xml\n",
            "Currently on:  NCT01674270.xml\n",
            "Currently on:  NCT01529086.xml\n",
            "Currently on:  NCT03222466.xml\n",
            "Currently on:  NCT01753297.xml\n",
            "Currently on:  NCT03650153.xml\n",
            "Currently on:  NCT02692105.xml\n",
            "Currently on:  NCT00565227.xml\n",
            "Currently on:  NCT02364531.xml\n",
            "Currently on:  NCT00321620.xml\n",
            "Currently on:  NCT02344667.xml\n",
            "Currently on:  NCT00264017.xml\n",
            "Currently on:  NCT00043212.xml\n",
            "Currently on:  NCT02672657.xml\n",
            "Currently on:  NCT00695773.xml\n",
            "Currently on:  NCT02435472.xml\n",
            "Currently on:  NCT04628806.xml\n",
            "Currently on:  NCT04443062.xml\n",
            "Currently on:  NCT00992251.xml\n",
            "Currently on:  NCT03630666.xml\n",
            "Currently on:  NCT02479945.xml\n",
            "Currently on:  NCT00630799.xml\n",
            "Currently on:  NCT04140526.xml\n",
            "Currently on:  NCT04839055.xml\n",
            "Currently on:  NCT02258087.xml\n",
            "Currently on:  NCT02969564.xml\n",
            "Currently on:  NCT01907009.xml\n",
            "Currently on:  NCT04062162.xml\n",
            "Currently on:  NCT02036060.xml\n",
            "Currently on:  NCT01839994.xml\n",
            "Currently on:  NCT03475433.xml\n",
            "Currently on:  NCT03840200.xml\n",
            "Currently on:  NCT00951535.xml\n",
            "Currently on:  NCT01353625.xml\n",
            "Currently on:  NCT03383016.xml\n",
            "Currently on:  NCT00003682.xml\n",
            "Currently on:  NCT04654715.xml\n",
            "Currently on:  NCT03431753.xml\n",
            "Currently on:  NCT02424448.xml\n",
            "Currently on:  NCT00943956.xml\n",
            "Currently on:  NCT04962919.xml\n",
            "Currently on:  NCT02086266.xml\n",
            "Currently on:  NCT00663832.xml\n",
            "Currently on:  NCT04235556.xml\n",
            "Currently on:  NCT01243385.xml\n",
            "Currently on:  NCT00949962.xml\n",
            "Currently on:  NCT03964337.xml\n",
            "Currently on:  NCT00554229.xml\n",
            "Currently on:  NCT00193856.xml\n",
            "Currently on:  NCT01634061.xml\n",
            "Currently on:  NCT00242567.xml\n",
            "Currently on:  NCT00925418.xml\n",
            "Currently on:  NCT03832803.xml\n",
            "Currently on:  NCT00450463.xml\n",
            "Currently on:  NCT00859768.xml\n",
            "Currently on:  NCT00585637.xml\n",
            "Currently on:  NCT04792138.xml\n",
            "Currently on:  NCT02470910.xml\n",
            "Currently on:  NCT03285048.xml\n",
            "Currently on:  NCT00949338.xml\n",
            "Currently on:  NCT03549000.xml\n",
            "Currently on:  NCT03294889.xml\n",
            "Currently on:  NCT00661492.xml\n",
            "Currently on:  NCT04180592.xml\n",
            "Currently on:  NCT01162395.xml\n",
            "Currently on:  NCT02477137.xml\n",
            "Currently on:  NCT04261777.xml\n",
            "on trial:  80\n",
            "the loop ran:  237  times\n"
          ]
        }
      ]
    },
    {
      "cell_type": "code",
      "metadata": {
        "colab": {
          "base_uri": "https://localhost:8080/"
        },
        "id": "TES-3oeLUR3L",
        "outputId": "04f0709d-2f57-4925-cd12-9927cac5ff7b"
      },
      "source": [
        "exclusion_df.shape"
      ],
      "execution_count": null,
      "outputs": [
        {
          "output_type": "execute_result",
          "data": {
            "text/plain": [
              "(237, 3)"
            ]
          },
          "metadata": {},
          "execution_count": 47
        }
      ]
    },
    {
      "cell_type": "markdown",
      "metadata": {
        "id": "bAvaOkzZNUgi"
      },
      "source": [
        "## Finding the most common semantic types of entities in the INCLUSION CRITERIA"
      ]
    },
    {
      "cell_type": "code",
      "metadata": {
        "id": "l44cHbaPNkkN"
      },
      "source": [
        "entities_inclusion = []\n",
        "for filename in os.listdir(\"/content/inclusion\"):\n",
        "  f = open(\"/content/inclusion/\"+filename,)\n",
        "  data = json.load(f)\n",
        "  for i in range(0, len(data['entityMentions'])):\n",
        "    entities_inclusion.append(data['entityMentions'][i]['type'])\n",
        "  f.close()"
      ],
      "execution_count": null,
      "outputs": []
    },
    {
      "cell_type": "code",
      "metadata": {
        "colab": {
          "base_uri": "https://localhost:8080/"
        },
        "id": "vWe9sac2AveA",
        "outputId": "abe2492b-0049-48de-b3b8-a59d9d0bc661"
      },
      "source": [
        "from collections import Counter\n",
        "#Counter(entities_inclusion)\n",
        "Counter([str(x) for x in entities_inclusion]).most_common()"
      ],
      "execution_count": null,
      "outputs": [
        {
          "output_type": "execute_result",
          "data": {
            "text/plain": [
              "[('PROBLEM', 1451),\n",
              " ('PROCEDURE', 1395),\n",
              " ('LABORATORY_DATA', 1036),\n",
              " ('ANATOMICAL_STRUCTURE', 802),\n",
              " ('MEDICINE', 585),\n",
              " ('LAB_VALUE', 558),\n",
              " ('LAB_UNIT', 363),\n",
              " ('LAB_RESULT', 132),\n",
              " ('SEVERITY', 124),\n",
              " ('BODY_FUNCTION', 65),\n",
              " ('BM_VALUE', 57),\n",
              " ('BODY_MEASUREMENT', 50),\n",
              " ('BF_RESULT', 39),\n",
              " ('MEDICAL_DEVICE', 28),\n",
              " ('BM_UNIT', 23),\n",
              " ('MED_STRENGTH', 23),\n",
              " ('MED_DURATION', 22),\n",
              " ('PROCEDURE_RESULT', 19),\n",
              " ('MED_ROUTE', 18),\n",
              " ('MED_UNIT', 14),\n",
              " ('MED_STATUS', 12),\n",
              " ('MED_FREQUENCY', 11),\n",
              " ('MED_FORM', 5),\n",
              " ('MED_DOSE', 5),\n",
              " ('SUBSTANCE_ABUSE', 4),\n",
              " ('BM_RESULT', 3)]"
            ]
          },
          "metadata": {},
          "execution_count": 23
        }
      ]
    },
    {
      "cell_type": "code",
      "metadata": {
        "colab": {
          "base_uri": "https://localhost:8080/",
          "height": 421
        },
        "id": "sAD8q_2TEsjk",
        "outputId": "dd108707-51f4-4983-8e11-401e94715951"
      },
      "source": [
        "import matplotlib.pyplot as plt\n",
        "plt.bar(Counter(entities_inclusion).keys(), Counter(entities_inclusion).values())\n",
        "\n",
        "plt.xticks(rotation = 90)\n",
        "plt.xlabel('medical entities', fontsize=15)\n",
        "plt.ylabel('frequency', fontsize=15)"
      ],
      "execution_count": null,
      "outputs": [
        {
          "output_type": "execute_result",
          "data": {
            "text/plain": [
              "Text(0, 0.5, 'frequency')"
            ]
          },
          "metadata": {},
          "execution_count": 25
        },
        {
          "output_type": "display_data",
          "data": {
            "image/png": "[encoded data removed]",
            "text/plain": [
              "<Figure size 432x288 with 1 Axes>"
            ]
          },
          "metadata": {
            "needs_background": "light"
          }
        }
      ]
    },
    {
      "cell_type": "markdown",
      "metadata": {
        "id": "3jHb8sCKBTsg"
      },
      "source": [
        "## Finding the most common semantic types of entities in the EXCLUSION CRITERIA"
      ]
    },
    {
      "cell_type": "code",
      "metadata": {
        "id": "wE7pq_Z1BTWd"
      },
      "source": [
        "entities_exclusion = []\n",
        "counter = 0\n",
        "for filename in os.listdir(\"/content/exclusion\"):\n",
        "  f = open(\"/content/exclusion/\"+filename,)\n",
        "  data = json.load(f)\n",
        "  #print(filename, data)\n",
        "  if data == {}:\n",
        "    counter = counter + 1\n",
        "    continue\n",
        "  else:\n",
        "    for i in range(0, len(data['entityMentions'])):\n",
        "      entities_exclusion.append(data['entityMentions'][i]['type'])\n",
        "  f.close()"
      ],
      "execution_count": null,
      "outputs": []
    },
    {
      "cell_type": "code",
      "metadata": {
        "colab": {
          "base_uri": "https://localhost:8080/"
        },
        "id": "wOUY50KeH83s",
        "outputId": "1549d384-9907-4dd2-b202-11f81c0ef312"
      },
      "source": [
        "print(\"There are\", counter, \"trials with empty exclusion criteria\")"
      ],
      "execution_count": null,
      "outputs": [
        {
          "output_type": "stream",
          "name": "stdout",
          "text": [
            "There are 44 trials with empty exclusion criteria\n"
          ]
        }
      ]
    },
    {
      "cell_type": "code",
      "metadata": {
        "id": "V69D95y9B5lh"
      },
      "source": [
        "ordered_entities_exclusion = Counter(entities_exclusion).most_common()"
      ],
      "execution_count": null,
      "outputs": []
    },
    {
      "cell_type": "code",
      "metadata": {
        "colab": {
          "base_uri": "https://localhost:8080/"
        },
        "id": "IKmfId6_yUA9",
        "outputId": "125c12c8-d02a-4247-f306-a7431d7f89f6"
      },
      "source": [
        "len(set(entities_exclusion))\n"
      ],
      "execution_count": null,
      "outputs": [
        {
          "output_type": "execute_result",
          "data": {
            "text/plain": [
              "25"
            ]
          },
          "metadata": {},
          "execution_count": 37
        }
      ]
    },
    {
      "cell_type": "code",
      "metadata": {
        "colab": {
          "base_uri": "https://localhost:8080/"
        },
        "id": "-HXY3zg-yoVQ",
        "outputId": "fb7a6aa3-2e1b-468f-c8da-224211e31819"
      },
      "source": [
        "len(set(entities_inclusion))"
      ],
      "execution_count": null,
      "outputs": [
        {
          "output_type": "execute_result",
          "data": {
            "text/plain": [
              "26"
            ]
          },
          "metadata": {},
          "execution_count": 38
        }
      ]
    },
    {
      "cell_type": "code",
      "metadata": {
        "colab": {
          "base_uri": "https://localhost:8080/"
        },
        "id": "ZlOAV4a-r1z4",
        "outputId": "7405eeac-3f32-4ec6-c8b7-ff7ca38c6ab6"
      },
      "source": [
        "Counter([str(x) for x in entities_exclusion]).most_common()"
      ],
      "execution_count": null,
      "outputs": [
        {
          "output_type": "execute_result",
          "data": {
            "text/plain": [
              "[('PROBLEM', 1899),\n",
              " ('PROCEDURE', 1020),\n",
              " ('MEDICINE', 691),\n",
              " ('ANATOMICAL_STRUCTURE', 502),\n",
              " ('SEVERITY', 238),\n",
              " ('LABORATORY_DATA', 200),\n",
              " ('BODY_MEASUREMENT', 86),\n",
              " ('LAB_VALUE', 82),\n",
              " ('BM_VALUE', 71),\n",
              " ('BM_UNIT', 62),\n",
              " ('MEDICAL_DEVICE', 53),\n",
              " ('LAB_UNIT', 43),\n",
              " ('LAB_RESULT', 36),\n",
              " ('BODY_FUNCTION', 22),\n",
              " ('MED_STRENGTH', 12),\n",
              " ('MED_DURATION', 12),\n",
              " ('SUBSTANCE_ABUSE', 11),\n",
              " ('MED_ROUTE', 10),\n",
              " ('BF_RESULT', 9),\n",
              " ('MED_UNIT', 8),\n",
              " ('MED_FREQUENCY', 8),\n",
              " ('PROCEDURE_RESULT', 7),\n",
              " ('MED_STATUS', 5),\n",
              " ('MED_DOSE', 4),\n",
              " ('BM_RESULT', 2)]"
            ]
          },
          "metadata": {},
          "execution_count": 30
        }
      ]
    },
    {
      "cell_type": "code",
      "metadata": {
        "colab": {
          "base_uri": "https://localhost:8080/",
          "height": 421
        },
        "id": "Ymv5quzhDfNt",
        "outputId": "2b0d4ef5-54cb-42d4-f6ac-cb793cb74641"
      },
      "source": [
        "import matplotlib.pyplot as plt\n",
        "plt.bar(Counter(entities_exclusion).keys(), Counter(entities_exclusion).values())\n",
        "\n",
        "plt.xticks(rotation = 90)\n",
        "plt.xlabel('medical entities', fontsize=15)\n",
        "plt.ylabel('frequency', fontsize=15)"
      ],
      "execution_count": null,
      "outputs": [
        {
          "output_type": "execute_result",
          "data": {
            "text/plain": [
              "Text(0, 0.5, 'frequency')"
            ]
          },
          "metadata": {},
          "execution_count": 31
        },
        {
          "output_type": "display_data",
          "data": {
            "image/png": "[encoded data removed]",
            "text/plain": [
              "<Figure size 432x288 with 1 Axes>"
            ]
          },
          "metadata": {
            "needs_background": "light"
          }
        }
      ]
    },
    {
      "cell_type": "markdown",
      "metadata": {
        "id": "yKaV4tih2SnP"
      },
      "source": [
        "# Finding the most common relationships in EXCLUSION CRITERIA"
      ]
    },
    {
      "cell_type": "code",
      "metadata": {
        "id": "BbqpJgc4-R6X"
      },
      "source": [
        "relationships_exclusion= []\n",
        "for filename in os.listdir(\"/content/exclusion\"):\n",
        "  f = open(\"/content/exclusion/\"+filename,)\n",
        "  data = json.load(f)\n",
        "  if 'relationships' in data:\n",
        "    for i in range(0, len(data['relationships'])):\n",
        "      relationships_exclusion.append([\n",
        "                            data['entityMentions'][int(data['relationships'][i][\"subjectId\"])-1]['type'],\n",
        "                            data['entityMentions'][int(data['relationships'][i][\"objectId\"])-1]['type']\n",
        "                            ])\n",
        "    "
      ],
      "execution_count": null,
      "outputs": []
    },
    {
      "cell_type": "code",
      "metadata": {
        "id": "2u9BF3Dh-ft8"
      },
      "source": [
        "relationships_inclusion= []\n",
        "for filename in os.listdir(\"/content/inclusion\"):\n",
        "  f = open(\"/content/inclusion/\"+filename,)\n",
        "  data = json.load(f)\n",
        "  if 'relationships' in data:\n",
        "    for i in range(0, len(data['relationships'])):\n",
        "      relationships_inclusion.append([\n",
        "                            data['entityMentions'][int(data['relationships'][i][\"subjectId\"])-1]['type'],\n",
        "                            data['entityMentions'][int(data['relationships'][i][\"objectId\"])-1]['type']\n",
        "                            ])"
      ],
      "execution_count": null,
      "outputs": []
    },
    {
      "cell_type": "code",
      "metadata": {
        "colab": {
          "base_uri": "https://localhost:8080/"
        },
        "id": "q2IJTvYR-wUu",
        "outputId": "f6b139d5-5262-40a5-e12f-a0a159372277"
      },
      "source": [
        "from collections import Counter\n",
        "Counter([str(x) for x in relationships_inclusion]).most_common()"
      ],
      "execution_count": null,
      "outputs": [
        {
          "output_type": "execute_result",
          "data": {
            "text/plain": [
              "[(\"['LABORATORY_DATA', 'LAB_VALUE']\", 701),\n",
              " (\"['PROBLEM', 'ANATOMICAL_STRUCTURE']\", 616),\n",
              " (\"['LABORATORY_DATA', 'LAB_UNIT']\", 418),\n",
              " (\"['PROBLEM', 'PROCEDURE']\", 363),\n",
              " (\"['LABORATORY_DATA', 'LAB_RESULT']\", 184),\n",
              " (\"['PROCEDURE', 'ANATOMICAL_STRUCTURE']\", 167),\n",
              " (\"['PROBLEM', 'SEVERITY']\", 141),\n",
              " (\"['PROBLEM', 'MEDICINE']\", 47),\n",
              " (\"['BODY_FUNCTION', 'BF_RESULT']\", 42),\n",
              " (\"['BODY_MEASUREMENT', 'BM_VALUE']\", 39),\n",
              " (\"['MEDICINE', 'MED_DURATION']\", 36),\n",
              " (\"['MEDICINE', 'MED_STRENGTH']\", 24),\n",
              " (\"['BODY_MEASUREMENT', 'BM_UNIT']\", 24),\n",
              " (\"['MEDICINE', 'MED_ROUTE']\", 21),\n",
              " (\"['PROCEDURE', 'PROCEDURE_RESULT']\", 21),\n",
              " (\"['MEDICINE', 'MED_STATUS']\", 20),\n",
              " (\"['MEDICINE', 'MED_UNIT']\", 14),\n",
              " (\"['MEDICINE', 'MED_FREQUENCY']\", 13),\n",
              " (\"['MEDICINE', 'MED_FORM']\", 6),\n",
              " (\"['MEDICINE', 'MED_DOSE']\", 6),\n",
              " (\"['BODY_MEASUREMENT', 'BM_RESULT']\", 5),\n",
              " (\"['ANATOMICAL_STRUCTURE', 'MEDICAL_DEVICE']\", 2)]"
            ]
          },
          "metadata": {},
          "execution_count": 79
        }
      ]
    },
    {
      "cell_type": "code",
      "metadata": {
        "colab": {
          "base_uri": "https://localhost:8080/"
        },
        "id": "1mCtGstPA_pU",
        "outputId": "80668cbb-2704-429e-f382-c4fb10b896ff"
      },
      "source": [
        "Counter([str(x) for x in relationships_exclusion]).most_common()"
      ],
      "execution_count": null,
      "outputs": [
        {
          "output_type": "execute_result",
          "data": {
            "text/plain": [
              "[(\"['PROBLEM', 'ANATOMICAL_STRUCTURE']\", 455),\n",
              " (\"['PROBLEM', 'PROCEDURE']\", 302),\n",
              " (\"['PROBLEM', 'SEVERITY']\", 300),\n",
              " (\"['PROBLEM', 'MEDICINE']\", 117),\n",
              " (\"['LABORATORY_DATA', 'LAB_VALUE']\", 94),\n",
              " (\"['PROCEDURE', 'ANATOMICAL_STRUCTURE']\", 85),\n",
              " (\"['BODY_MEASUREMENT', 'BM_VALUE']\", 68),\n",
              " (\"['BODY_MEASUREMENT', 'BM_UNIT']\", 64),\n",
              " (\"['LABORATORY_DATA', 'LAB_RESULT']\", 53),\n",
              " (\"['LABORATORY_DATA', 'LAB_UNIT']\", 51),\n",
              " (\"['MEDICINE', 'MED_DURATION']\", 16),\n",
              " (\"['MEDICINE', 'MED_STATUS']\", 14),\n",
              " (\"['MEDICINE', 'MED_STRENGTH']\", 13),\n",
              " (\"['MEDICINE', 'MED_FREQUENCY']\", 12),\n",
              " (\"['MEDICINE', 'MED_ROUTE']\", 10),\n",
              " (\"['MEDICINE', 'MED_UNIT']\", 10),\n",
              " (\"['BODY_FUNCTION', 'BF_RESULT']\", 10),\n",
              " (\"['PROCEDURE', 'PROCEDURE_RESULT']\", 7),\n",
              " (\"['MEDICINE', 'MED_DOSE']\", 4),\n",
              " (\"['ANATOMICAL_STRUCTURE', 'MEDICAL_DEVICE']\", 4),\n",
              " (\"['BODY_MEASUREMENT', 'BM_RESULT']\", 3),\n",
              " (\"['SUBSTANCE_ABUSE', 'SEVERITY']\", 2)]"
            ]
          },
          "metadata": {},
          "execution_count": 85
        }
      ]
    }
  ]
}